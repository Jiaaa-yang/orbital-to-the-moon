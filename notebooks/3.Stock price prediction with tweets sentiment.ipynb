{
 "cells": [
  {
   "cell_type": "markdown",
   "id": "happy-season",
   "metadata": {
    "papermill": {
     "duration": 0.018618,
     "end_time": "2021-06-21T14:36:34.974771",
     "exception": false,
     "start_time": "2021-06-21T14:36:34.956153",
     "status": "completed"
    },
    "tags": []
   },
   "source": [
    "# Imports and loading dataset\n",
    "\n",
    "### Financial tweets data:\n",
    "Filtered twitter data for text classification. Consists of the following columns\n",
    "* `date`: The date when the tweet was posted\n",
    "* `symbol`: The symbol the tweet is associated with, by using '$symbol' as the query for the search API\n",
    "* `tweet`: Full text data of the tweet\n",
    "* `id`: Tweet id of the tweet\n",
    "\n",
    "We will take the test set from the previous notebook, so that we can test the predictions on data the classifier was not trained on. Also, since we will be doing a similar labelling with the previous notebook, using the dataset with the train data could lead to unreliable results."
   ]
  },
  {
   "cell_type": "code",
   "execution_count": 1,
   "id": "friendly-mozambique",
   "metadata": {
    "execution": {
     "iopub.execute_input": "2021-06-21T14:36:35.018364Z",
     "iopub.status.busy": "2021-06-21T14:36:35.017881Z",
     "iopub.status.idle": "2021-06-21T14:36:36.003000Z",
     "shell.execute_reply": "2021-06-21T14:36:36.003705Z",
     "shell.execute_reply.started": "2021-06-21T14:30:55.156536Z"
    },
    "papermill": {
     "duration": 1.011781,
     "end_time": "2021-06-21T14:36:36.004023",
     "exception": false,
     "start_time": "2021-06-21T14:36:34.992242",
     "status": "completed"
    },
    "tags": []
   },
   "outputs": [
    {
     "data": {
      "text/html": [
       "<div>\n",
       "<style scoped>\n",
       "    .dataframe tbody tr th:only-of-type {\n",
       "        vertical-align: middle;\n",
       "    }\n",
       "\n",
       "    .dataframe tbody tr th {\n",
       "        vertical-align: top;\n",
       "    }\n",
       "\n",
       "    .dataframe thead th {\n",
       "        text-align: right;\n",
       "    }\n",
       "</style>\n",
       "<table border=\"1\" class=\"dataframe\">\n",
       "  <thead>\n",
       "    <tr style=\"text-align: right;\">\n",
       "      <th></th>\n",
       "      <th>date</th>\n",
       "      <th>symbol</th>\n",
       "      <th>tweet</th>\n",
       "      <th>id</th>\n",
       "      <th>bullish</th>\n",
       "    </tr>\n",
       "  </thead>\n",
       "  <tbody>\n",
       "    <tr>\n",
       "      <th>0</th>\n",
       "      <td>2021-06-02</td>\n",
       "      <td>AMWL</td>\n",
       "      <td>amwell to participate in the 42nd annual goldm...</td>\n",
       "      <td>1400019278003326979</td>\n",
       "      <td>1.0</td>\n",
       "    </tr>\n",
       "    <tr>\n",
       "      <th>1</th>\n",
       "      <td>2021-06-15</td>\n",
       "      <td>MRVL</td>\n",
       "      <td>great pitch shana you nailed it going long on ...</td>\n",
       "      <td>1404937455174754311</td>\n",
       "      <td>0.0</td>\n",
       "    </tr>\n",
       "    <tr>\n",
       "      <th>2</th>\n",
       "      <td>2021-05-18</td>\n",
       "      <td>AMC</td>\n",
       "      <td>*amc block of 17m share is said to price at $ ...</td>\n",
       "      <td>&lt;NA&gt;</td>\n",
       "      <td>1.0</td>\n",
       "    </tr>\n",
       "    <tr>\n",
       "      <th>3</th>\n",
       "      <td>2021-05-26</td>\n",
       "      <td>XOM</td>\n",
       "      <td>big day for exxon mobil : 16 board candidate a...</td>\n",
       "      <td>1397508562402746371</td>\n",
       "      <td>1.0</td>\n",
       "    </tr>\n",
       "    <tr>\n",
       "      <th>4</th>\n",
       "      <td>2021-06-08</td>\n",
       "      <td>SONO</td>\n",
       "      <td>$ sono brian eno premiere three hundred track ...</td>\n",
       "      <td>1402250150177804289</td>\n",
       "      <td>1.0</td>\n",
       "    </tr>\n",
       "    <tr>\n",
       "      <th>...</th>\n",
       "      <td>...</td>\n",
       "      <td>...</td>\n",
       "      <td>...</td>\n",
       "      <td>...</td>\n",
       "      <td>...</td>\n",
       "    </tr>\n",
       "    <tr>\n",
       "      <th>3333</th>\n",
       "      <td>2021-05-24</td>\n",
       "      <td>NVDA</td>\n",
       "      <td>$ nvda popped almost 3 % . someone always know...</td>\n",
       "      <td>1396823832669954058</td>\n",
       "      <td>1.0</td>\n",
       "    </tr>\n",
       "    <tr>\n",
       "      <th>3334</th>\n",
       "      <td>2021-05-17</td>\n",
       "      <td>NCLH</td>\n",
       "      <td>$ nclh good buy the dip ! best of cruise stock !</td>\n",
       "      <td>&lt;NA&gt;</td>\n",
       "      <td>1.0</td>\n",
       "    </tr>\n",
       "    <tr>\n",
       "      <th>3335</th>\n",
       "      <td>2021-06-08</td>\n",
       "      <td>LEDS</td>\n",
       "      <td>update : intraday max move down from alerted d...</td>\n",
       "      <td>1402264175263600643</td>\n",
       "      <td>1.0</td>\n",
       "    </tr>\n",
       "    <tr>\n",
       "      <th>3336</th>\n",
       "      <td>2021-06-12</td>\n",
       "      <td>BABA</td>\n",
       "      <td>$ baba vs. big tech faang the lower $ baba go ...</td>\n",
       "      <td>1403578246353014784</td>\n",
       "      <td>1.0</td>\n",
       "    </tr>\n",
       "    <tr>\n",
       "      <th>3337</th>\n",
       "      <td>2021-06-02</td>\n",
       "      <td>AGNC</td>\n",
       "      <td>agnc investment corp share climb 0.4 % past pr...</td>\n",
       "      <td>1400039160522678274</td>\n",
       "      <td>1.0</td>\n",
       "    </tr>\n",
       "  </tbody>\n",
       "</table>\n",
       "<p>3338 rows × 5 columns</p>\n",
       "</div>"
      ],
      "text/plain": [
       "            date symbol                                              tweet  \\\n",
       "0     2021-06-02   AMWL  amwell to participate in the 42nd annual goldm...   \n",
       "1     2021-06-15   MRVL  great pitch shana you nailed it going long on ...   \n",
       "2     2021-05-18    AMC  *amc block of 17m share is said to price at $ ...   \n",
       "3     2021-05-26    XOM  big day for exxon mobil : 16 board candidate a...   \n",
       "4     2021-06-08   SONO  $ sono brian eno premiere three hundred track ...   \n",
       "...          ...    ...                                                ...   \n",
       "3333  2021-05-24   NVDA  $ nvda popped almost 3 % . someone always know...   \n",
       "3334  2021-05-17   NCLH   $ nclh good buy the dip ! best of cruise stock !   \n",
       "3335  2021-06-08   LEDS  update : intraday max move down from alerted d...   \n",
       "3336  2021-06-12   BABA  $ baba vs. big tech faang the lower $ baba go ...   \n",
       "3337  2021-06-02   AGNC  agnc investment corp share climb 0.4 % past pr...   \n",
       "\n",
       "                       id  bullish  \n",
       "0     1400019278003326979      1.0  \n",
       "1     1404937455174754311      0.0  \n",
       "2                    <NA>      1.0  \n",
       "3     1397508562402746371      1.0  \n",
       "4     1402250150177804289      1.0  \n",
       "...                   ...      ...  \n",
       "3333  1396823832669954058      1.0  \n",
       "3334                 <NA>      1.0  \n",
       "3335  1402264175263600643      1.0  \n",
       "3336  1403578246353014784      1.0  \n",
       "3337  1400039160522678274      1.0  \n",
       "\n",
       "[3338 rows x 5 columns]"
      ]
     },
     "execution_count": 1,
     "metadata": {},
     "output_type": "execute_result"
    }
   ],
   "source": [
    "import pandas as pd\n",
    "import seaborn as sns\n",
    "import re\n",
    "import matplotlib.pyplot as plt\n",
    "\n",
    "from sklearn.model_selection import train_test_split\n",
    "\n",
    "df = pd.read_csv(\"../input/jus-testing/test_tweets.csv\", dtype={'id': 'string'})\n",
    "df"
   ]
  },
  {
   "cell_type": "markdown",
   "id": "selected-retreat",
   "metadata": {
    "papermill": {
     "duration": 0.024664,
     "end_time": "2021-06-21T14:36:36.048916",
     "exception": false,
     "start_time": "2021-06-21T14:36:36.024252",
     "status": "completed"
    },
    "tags": []
   },
   "source": [
    "### Tweet financial sentiment classifier\n",
    "We will also load in our trained classifier and fitted vectorizer to label these tweets. Ensure that the sklearn version is `0.24.1` since sklearn requires the model to be loaded with the same version of sklearn that the trained model was saved in. Again, we will define some utility functions to visualise the tweets"
   ]
  },
  {
   "cell_type": "code",
   "execution_count": 2,
   "id": "reflected-hawaii",
   "metadata": {
    "execution": {
     "iopub.execute_input": "2021-06-21T14:36:36.097230Z",
     "iopub.status.busy": "2021-06-21T14:36:36.096343Z",
     "iopub.status.idle": "2021-06-21T14:36:43.090880Z",
     "shell.execute_reply": "2021-06-21T14:36:43.090407Z",
     "shell.execute_reply.started": "2021-06-21T14:12:55.076617Z"
    },
    "papermill": {
     "duration": 7.019992,
     "end_time": "2021-06-21T14:36:43.091009",
     "exception": false,
     "start_time": "2021-06-21T14:36:36.071017",
     "status": "completed"
    },
    "tags": []
   },
   "outputs": [],
   "source": [
    "!pip install -q scikit-learn==0.24.1"
   ]
  },
  {
   "cell_type": "code",
   "execution_count": 3,
   "id": "grateful-width",
   "metadata": {
    "execution": {
     "iopub.execute_input": "2021-06-21T14:36:43.131952Z",
     "iopub.status.busy": "2021-06-21T14:36:43.131445Z",
     "iopub.status.idle": "2021-06-21T14:36:47.625999Z",
     "shell.execute_reply": "2021-06-21T14:36:47.625453Z",
     "shell.execute_reply.started": "2021-06-21T14:13:06.856387Z"
    },
    "papermill": {
     "duration": 4.516138,
     "end_time": "2021-06-21T14:36:47.626131",
     "exception": false,
     "start_time": "2021-06-21T14:36:43.109993",
     "status": "completed"
    },
    "tags": []
   },
   "outputs": [],
   "source": [
    "from joblib import load\n",
    "\n",
    "classifier = load(\"../input/financial-tweets-and-stock-prices/svm_classifier.joblib\")\n",
    "vectorizer = load(\"../input/financial-tweets-and-stock-prices/vectorizer.joblib\")"
   ]
  },
  {
   "cell_type": "code",
   "execution_count": 4,
   "id": "lyric-alarm",
   "metadata": {
    "execution": {
     "iopub.execute_input": "2021-06-21T14:36:47.667968Z",
     "iopub.status.busy": "2021-06-21T14:36:47.667156Z",
     "iopub.status.idle": "2021-06-21T14:36:47.669400Z",
     "shell.execute_reply": "2021-06-21T14:36:47.669843Z",
     "shell.execute_reply.started": "2021-06-21T14:13:12.557061Z"
    },
    "papermill": {
     "duration": 0.025653,
     "end_time": "2021-06-21T14:36:47.669964",
     "exception": false,
     "start_time": "2021-06-21T14:36:47.644311",
     "status": "completed"
    },
    "tags": []
   },
   "outputs": [],
   "source": [
    "# Print 5 sample tweets from the dataframe, along with its associated symbol\n",
    "# and the link to the original tweet if the id exists\n",
    "def print_tweets(df):\n",
    "    sample = df.sample(n=5, random_state=41)\n",
    "    for _, row in sample.iterrows():\n",
    "        print(f\"Symbol: {row.symbol}\")\n",
    "        if type(row.id) == str:\n",
    "            print(f\"Link: https://twitter.com/user/status/{row.id}\")\n",
    "        print(f\"Text: {row.tweet}\")\n",
    "        print(\"==============================\")  "
   ]
  },
  {
   "cell_type": "markdown",
   "id": "overhead-indonesia",
   "metadata": {
    "papermill": {
     "duration": 0.017469,
     "end_time": "2021-06-21T14:36:47.705118",
     "exception": false,
     "start_time": "2021-06-21T14:36:47.687649",
     "status": "completed"
    },
    "tags": []
   },
   "source": [
    "### Labelling our tweets\n",
    "Using our trained classifier, let's label our tweets based on the prediction of the classifier. A '1' represents a bullish sentiment, while a '0' represents a bearish sentiment.\n",
    "<br>\n",
    "While the classifier does not have a high accuracy, we will see that the labels do make sense to some degree."
   ]
  },
  {
   "cell_type": "code",
   "execution_count": 5,
   "id": "extra-observer",
   "metadata": {
    "execution": {
     "iopub.execute_input": "2021-06-21T14:36:47.752557Z",
     "iopub.status.busy": "2021-06-21T14:36:47.747410Z",
     "iopub.status.idle": "2021-06-21T14:36:47.950111Z",
     "shell.execute_reply": "2021-06-21T14:36:47.949570Z",
     "shell.execute_reply.started": "2021-06-21T14:13:15.484101Z"
    },
    "papermill": {
     "duration": 0.227592,
     "end_time": "2021-06-21T14:36:47.950240",
     "exception": false,
     "start_time": "2021-06-21T14:36:47.722648",
     "status": "completed"
    },
    "tags": []
   },
   "outputs": [],
   "source": [
    "df['bullish'] = classifier.predict(vectorizer.transform(df.tweet))"
   ]
  },
  {
   "cell_type": "code",
   "execution_count": 6,
   "id": "civil-revelation",
   "metadata": {
    "execution": {
     "iopub.execute_input": "2021-06-21T14:36:47.992196Z",
     "iopub.status.busy": "2021-06-21T14:36:47.991540Z",
     "iopub.status.idle": "2021-06-21T14:36:48.008032Z",
     "shell.execute_reply": "2021-06-21T14:36:48.007611Z",
     "shell.execute_reply.started": "2021-06-21T14:13:19.324186Z"
    },
    "papermill": {
     "duration": 0.038148,
     "end_time": "2021-06-21T14:36:48.008142",
     "exception": false,
     "start_time": "2021-06-21T14:36:47.969994",
     "status": "completed"
    },
    "tags": []
   },
   "outputs": [],
   "source": [
    "bullish_tweets = df.loc[df.bullish == 1]\n",
    "bearish_tweets = df.loc[df.bullish == 0]"
   ]
  },
  {
   "cell_type": "markdown",
   "id": "automotive-upper",
   "metadata": {
    "papermill": {
     "duration": 0.017697,
     "end_time": "2021-06-21T14:36:48.043332",
     "exception": false,
     "start_time": "2021-06-21T14:36:48.025635",
     "status": "completed"
    },
    "tags": []
   },
   "source": [
    "#### Some example tweets for bullish tweets"
   ]
  },
  {
   "cell_type": "code",
   "execution_count": 7,
   "id": "close-sleeping",
   "metadata": {
    "execution": {
     "iopub.execute_input": "2021-06-21T14:36:48.085154Z",
     "iopub.status.busy": "2021-06-21T14:36:48.084438Z",
     "iopub.status.idle": "2021-06-21T14:36:48.088968Z",
     "shell.execute_reply": "2021-06-21T14:36:48.088550Z",
     "shell.execute_reply.started": "2021-06-21T14:13:20.741368Z"
    },
    "papermill": {
     "duration": 0.028193,
     "end_time": "2021-06-21T14:36:48.089072",
     "exception": false,
     "start_time": "2021-06-21T14:36:48.060879",
     "status": "completed"
    },
    "tags": []
   },
   "outputs": [
    {
     "name": "stdout",
     "output_type": "stream",
     "text": [
      "Symbol: SPCE\n",
      "Link: https://twitter.com/user/status/1396130214476931076\n",
      "Text: news – virgin galactic is back in space : the company completed it first spaceflight in over two year , with v unity taking an important step toward finishing development . $ spce\n",
      "==============================\n",
      "Symbol: XLE\n",
      "Link: https://twitter.com/user/status/1400093594476761089\n",
      "Text: $ xle will print all summer .\n",
      "==============================\n",
      "Symbol: C\n",
      "Link: https://twitter.com/user/status/1404680096485609473\n",
      "Text: bounty offered : relation between matter power spectrum $ p ( k ) $ and matter angular power spectrum $ c ... # cosmology\n",
      "==============================\n",
      "Symbol: SU\n",
      "Link: https://twitter.com/user/status/1400091906323984385\n",
      "Text: $ su significant price break here .\n",
      "==============================\n",
      "Symbol: SPY\n",
      "Link: https://twitter.com/user/status/1400098342529646595\n",
      "Text: $ spy hit all time high finally\n",
      "==============================\n"
     ]
    }
   ],
   "source": [
    "print_tweets(bullish_tweets)"
   ]
  },
  {
   "cell_type": "markdown",
   "id": "incorporated-senate",
   "metadata": {
    "papermill": {
     "duration": 0.018117,
     "end_time": "2021-06-21T14:36:48.125117",
     "exception": false,
     "start_time": "2021-06-21T14:36:48.107000",
     "status": "completed"
    },
    "tags": []
   },
   "source": [
    "#### Some example tweets for bearish tweets"
   ]
  },
  {
   "cell_type": "code",
   "execution_count": 8,
   "id": "comparable-basketball",
   "metadata": {
    "execution": {
     "iopub.execute_input": "2021-06-21T14:36:48.167560Z",
     "iopub.status.busy": "2021-06-21T14:36:48.166714Z",
     "iopub.status.idle": "2021-06-21T14:36:48.171251Z",
     "shell.execute_reply": "2021-06-21T14:36:48.170863Z",
     "shell.execute_reply.started": "2021-06-21T14:13:22.877343Z"
    },
    "papermill": {
     "duration": 0.027787,
     "end_time": "2021-06-21T14:36:48.171352",
     "exception": false,
     "start_time": "2021-06-21T14:36:48.143565",
     "status": "completed"
    },
    "tags": []
   },
   "outputs": [
    {
     "name": "stdout",
     "output_type": "stream",
     "text": [
      "Symbol: LPTH\n",
      "Link: https://twitter.com/user/status/1401305678237646852\n",
      "Text: mid candle dip from friday on $ lpth # momotwit\n",
      "==============================\n",
      "Symbol: CAN\n",
      "Link: https://twitter.com/user/status/1402989564327718917\n",
      "Text: no word for $ can , let ’ s have a moment of silence . nasdaq up almost 1 % and bitcoin just reclaimed % gain in 20 min . manipulation at it finest\n",
      "==============================\n",
      "Symbol: AMAT\n",
      "Link: https://twitter.com/user/status/1404922102621298690\n",
      "Text: $ amat applied material , inc. - top stock up 160 % from low . close : 138.64 volvsavg : 0.86 liq : $ 803m\n",
      "==============================\n",
      "Symbol: CRM\n",
      "Link: https://twitter.com/user/status/1402262439396261897\n",
      "Text: $ crm perfect back test . chart : : //\n",
      "==============================\n",
      "Symbol: SU\n",
      "Link: https://twitter.com/user/status/1401988612233760771\n",
      "Text: $ su | when investor make decision in suncor energy $ su opportunity surface ( su )\n",
      "==============================\n"
     ]
    }
   ],
   "source": [
    "print_tweets(bearish_tweets)"
   ]
  },
  {
   "cell_type": "markdown",
   "id": "assured-creativity",
   "metadata": {
    "papermill": {
     "duration": 0.018221,
     "end_time": "2021-06-21T14:36:48.207772",
     "exception": false,
     "start_time": "2021-06-21T14:36:48.189551",
     "status": "completed"
    },
    "tags": []
   },
   "source": [
    "### Predicting direction of stock price movements using sentiments\n",
    "Our classifier was trained by labelling each tweets based on its change in price after the tweet, which can be misleading as a single tweet doesn't impact the price of stocks greatly (usually). Thus, let us group the tweets based on its symbol and date, so that we get a group of tweets about a particular symbol on a specific date. We can then use the sentiments of this group of tweets to train a model to predict stock price movements.\n",
    "<br><br>\n",
    "For now, let's try just getting 2 features for each group, the number of positive tweets and the total number of tweets about the group"
   ]
  },
  {
   "cell_type": "code",
   "execution_count": 9,
   "id": "cooked-expression",
   "metadata": {
    "execution": {
     "iopub.execute_input": "2021-06-21T14:36:48.253347Z",
     "iopub.status.busy": "2021-06-21T14:36:48.252793Z",
     "iopub.status.idle": "2021-06-21T14:36:55.738024Z",
     "shell.execute_reply": "2021-06-21T14:36:55.737448Z",
     "shell.execute_reply.started": "2021-06-21T14:13:30.325504Z"
    },
    "papermill": {
     "duration": 7.512423,
     "end_time": "2021-06-21T14:36:55.738158",
     "exception": false,
     "start_time": "2021-06-21T14:36:48.225735",
     "status": "completed"
    },
    "tags": []
   },
   "outputs": [],
   "source": [
    "grouped_tweets = pd.DataFrame(columns=['date_symbol', 'positive_tweets', 'total_tweets'])\n",
    "\n",
    "for date_symbol, data in df.groupby(['date', 'symbol']):\n",
    "    total_tweets = len(data)\n",
    "    positive_tweets = len(data.loc[data.bullish == 1])\n",
    "    grouped_tweets = grouped_tweets.append({'date_symbol': date_symbol, \n",
    "                                            'positive_tweets': positive_tweets,\n",
    "                                            'total_tweets': total_tweets}, ignore_index=True)"
   ]
  },
  {
   "cell_type": "code",
   "execution_count": 10,
   "id": "crucial-hydrogen",
   "metadata": {
    "execution": {
     "iopub.execute_input": "2021-06-21T14:36:55.790824Z",
     "iopub.status.busy": "2021-06-21T14:36:55.789983Z",
     "iopub.status.idle": "2021-06-21T14:36:55.793732Z",
     "shell.execute_reply": "2021-06-21T14:36:55.793295Z",
     "shell.execute_reply.started": "2021-06-21T14:13:39.704095Z"
    },
    "papermill": {
     "duration": 0.03667,
     "end_time": "2021-06-21T14:36:55.793848",
     "exception": false,
     "start_time": "2021-06-21T14:36:55.757178",
     "status": "completed"
    },
    "tags": []
   },
   "outputs": [
    {
     "data": {
      "text/html": [
       "<div>\n",
       "<style scoped>\n",
       "    .dataframe tbody tr th:only-of-type {\n",
       "        vertical-align: middle;\n",
       "    }\n",
       "\n",
       "    .dataframe tbody tr th {\n",
       "        vertical-align: top;\n",
       "    }\n",
       "\n",
       "    .dataframe thead th {\n",
       "        text-align: right;\n",
       "    }\n",
       "</style>\n",
       "<table border=\"1\" class=\"dataframe\">\n",
       "  <thead>\n",
       "    <tr style=\"text-align: right;\">\n",
       "      <th></th>\n",
       "      <th>date_symbol</th>\n",
       "      <th>positive_tweets</th>\n",
       "      <th>total_tweets</th>\n",
       "    </tr>\n",
       "  </thead>\n",
       "  <tbody>\n",
       "    <tr>\n",
       "      <th>0</th>\n",
       "      <td>(2021-05-10, FB)</td>\n",
       "      <td>0</td>\n",
       "      <td>1</td>\n",
       "    </tr>\n",
       "    <tr>\n",
       "      <th>1</th>\n",
       "      <td>(2021-05-11, AAPL)</td>\n",
       "      <td>1</td>\n",
       "      <td>1</td>\n",
       "    </tr>\n",
       "    <tr>\n",
       "      <th>2</th>\n",
       "      <td>(2021-05-11, PLTR)</td>\n",
       "      <td>1</td>\n",
       "      <td>1</td>\n",
       "    </tr>\n",
       "    <tr>\n",
       "      <th>3</th>\n",
       "      <td>(2021-05-12, QQQ)</td>\n",
       "      <td>0</td>\n",
       "      <td>1</td>\n",
       "    </tr>\n",
       "    <tr>\n",
       "      <th>4</th>\n",
       "      <td>(2021-05-13, CRIS)</td>\n",
       "      <td>1</td>\n",
       "      <td>1</td>\n",
       "    </tr>\n",
       "    <tr>\n",
       "      <th>...</th>\n",
       "      <td>...</td>\n",
       "      <td>...</td>\n",
       "      <td>...</td>\n",
       "    </tr>\n",
       "    <tr>\n",
       "      <th>2319</th>\n",
       "      <td>(2021-06-16, WISH)</td>\n",
       "      <td>0</td>\n",
       "      <td>2</td>\n",
       "    </tr>\n",
       "    <tr>\n",
       "      <th>2320</th>\n",
       "      <td>(2021-06-16, WMB)</td>\n",
       "      <td>0</td>\n",
       "      <td>1</td>\n",
       "    </tr>\n",
       "    <tr>\n",
       "      <th>2321</th>\n",
       "      <td>(2021-06-16, WPG)</td>\n",
       "      <td>0</td>\n",
       "      <td>3</td>\n",
       "    </tr>\n",
       "    <tr>\n",
       "      <th>2322</th>\n",
       "      <td>(2021-06-16, X)</td>\n",
       "      <td>0</td>\n",
       "      <td>1</td>\n",
       "    </tr>\n",
       "    <tr>\n",
       "      <th>2323</th>\n",
       "      <td>(2021-06-16, XOM)</td>\n",
       "      <td>1</td>\n",
       "      <td>2</td>\n",
       "    </tr>\n",
       "  </tbody>\n",
       "</table>\n",
       "<p>2324 rows × 3 columns</p>\n",
       "</div>"
      ],
      "text/plain": [
       "             date_symbol positive_tweets total_tweets\n",
       "0       (2021-05-10, FB)               0            1\n",
       "1     (2021-05-11, AAPL)               1            1\n",
       "2     (2021-05-11, PLTR)               1            1\n",
       "3      (2021-05-12, QQQ)               0            1\n",
       "4     (2021-05-13, CRIS)               1            1\n",
       "...                  ...             ...          ...\n",
       "2319  (2021-06-16, WISH)               0            2\n",
       "2320   (2021-06-16, WMB)               0            1\n",
       "2321   (2021-06-16, WPG)               0            3\n",
       "2322     (2021-06-16, X)               0            1\n",
       "2323   (2021-06-16, XOM)               1            2\n",
       "\n",
       "[2324 rows x 3 columns]"
      ]
     },
     "execution_count": 10,
     "metadata": {},
     "output_type": "execute_result"
    }
   ],
   "source": [
    "grouped_tweets"
   ]
  },
  {
   "cell_type": "markdown",
   "id": "natural-promotion",
   "metadata": {
    "papermill": {
     "duration": 0.018913,
     "end_time": "2021-06-21T14:36:55.832471",
     "exception": false,
     "start_time": "2021-06-21T14:36:55.813558",
     "status": "completed"
    },
    "tags": []
   },
   "source": [
    "We can now label these groups in the same way as we labelled our original tweets, by checking the change in price of the symbol before and after the tweet. A rise in price will be given a bullish label of '1', while a drop in price will be given a bearish label of '0'"
   ]
  },
  {
   "cell_type": "code",
   "execution_count": 11,
   "id": "photographic-celebration",
   "metadata": {
    "execution": {
     "iopub.execute_input": "2021-06-21T14:36:55.881187Z",
     "iopub.status.busy": "2021-06-21T14:36:55.880683Z",
     "iopub.status.idle": "2021-06-21T14:36:55.917273Z",
     "shell.execute_reply": "2021-06-21T14:36:55.916763Z",
     "shell.execute_reply.started": "2021-06-21T14:13:39.723147Z"
    },
    "papermill": {
     "duration": 0.066025,
     "end_time": "2021-06-21T14:36:55.917400",
     "exception": false,
     "start_time": "2021-06-21T14:36:55.851375",
     "status": "completed"
    },
    "tags": []
   },
   "outputs": [],
   "source": [
    "from datetime import timedelta, datetime\n",
    "\n",
    "prices_df = pd.read_csv(\"../input/financial-tweets-and-stock-prices/prices_data.csv\")\n",
    "\n",
    "# Last date available in prices data\n",
    "max_date = datetime.strptime(prices_df['date'].max(), \"%Y-%m-%d\")\n",
    "delta = timedelta(days=1)\n",
    "\n",
    "# Label a tweet based on its date and symbol\n",
    "# Returns a 1 if the price of the symbol increased after the date\n",
    "# of tweet, and 0 if the price decreased. Returns None if the price\n",
    "# data is not available\n",
    "def label_tweets(symbol, date):\n",
    "    # Get prices data for the corresponding symbol\n",
    "    data = prices_df[prices_df[\"symbol\"].ravel() == symbol]\n",
    "    tweet_date = datetime.strptime(date, \"%Y-%m-%d\")\n",
    "    \n",
    "    # Get first date before date of tweet where prices data exist\n",
    "    prev_date = tweet_date - delta\n",
    "    while prev_date.strftime(\"%Y-%m-%d\") not in data['date'].values:\n",
    "        prev_date = prev_date - delta\n",
    "    prev_date = prev_date.strftime(\"%Y-%m-%d\")\n",
    "    \n",
    "    next_date = tweet_date\n",
    "    # Get next date after tweet date where prices data exist, \n",
    "    # until exceeding last date in dataset\n",
    "    while (next_date.strftime(\"%Y-%m-%d\") not in data['date'].values) and (next_date <= max_date):\n",
    "        next_date = next_date + delta\n",
    "    next_date = next_date.strftime(\"%Y-%m-%d\")\n",
    "    \n",
    "    date_one_data = data.loc[data['date'] == prev_date]\n",
    "    date_two_data = data.loc[data['date'] == next_date]\n",
    "    # Only if data from both dates exist\n",
    "    if (len(date_one_data) > 0 and len(date_two_data) > 0):\n",
    "        close_price_one = date_one_data.squeeze()['adjusted_close']\n",
    "        close_price_two = date_two_data.squeeze()['adjusted_close']\n",
    "        return 1 if (close_price_two - close_price_one >= 0) else 0\n",
    "    else:\n",
    "        return None"
   ]
  },
  {
   "cell_type": "code",
   "execution_count": 12,
   "id": "productive-cartridge",
   "metadata": {
    "execution": {
     "iopub.execute_input": "2021-06-21T14:36:55.959473Z",
     "iopub.status.busy": "2021-06-21T14:36:55.958921Z",
     "iopub.status.idle": "2021-06-21T14:37:01.773983Z",
     "shell.execute_reply": "2021-06-21T14:37:01.773548Z",
     "shell.execute_reply.started": "2021-06-21T14:13:39.763731Z"
    },
    "papermill": {
     "duration": 5.837837,
     "end_time": "2021-06-21T14:37:01.774097",
     "exception": false,
     "start_time": "2021-06-21T14:36:55.936260",
     "status": "completed"
    },
    "tags": []
   },
   "outputs": [
    {
     "data": {
      "text/html": [
       "<div>\n",
       "<style scoped>\n",
       "    .dataframe tbody tr th:only-of-type {\n",
       "        vertical-align: middle;\n",
       "    }\n",
       "\n",
       "    .dataframe tbody tr th {\n",
       "        vertical-align: top;\n",
       "    }\n",
       "\n",
       "    .dataframe thead th {\n",
       "        text-align: right;\n",
       "    }\n",
       "</style>\n",
       "<table border=\"1\" class=\"dataframe\">\n",
       "  <thead>\n",
       "    <tr style=\"text-align: right;\">\n",
       "      <th></th>\n",
       "      <th>date_symbol</th>\n",
       "      <th>positive_tweets</th>\n",
       "      <th>total_tweets</th>\n",
       "      <th>bullish</th>\n",
       "    </tr>\n",
       "  </thead>\n",
       "  <tbody>\n",
       "    <tr>\n",
       "      <th>0</th>\n",
       "      <td>(2021-05-10, FB)</td>\n",
       "      <td>0</td>\n",
       "      <td>1</td>\n",
       "      <td>0</td>\n",
       "    </tr>\n",
       "    <tr>\n",
       "      <th>1</th>\n",
       "      <td>(2021-05-11, AAPL)</td>\n",
       "      <td>1</td>\n",
       "      <td>1</td>\n",
       "      <td>0</td>\n",
       "    </tr>\n",
       "    <tr>\n",
       "      <th>2</th>\n",
       "      <td>(2021-05-11, PLTR)</td>\n",
       "      <td>1</td>\n",
       "      <td>1</td>\n",
       "      <td>1</td>\n",
       "    </tr>\n",
       "    <tr>\n",
       "      <th>3</th>\n",
       "      <td>(2021-05-12, QQQ)</td>\n",
       "      <td>0</td>\n",
       "      <td>1</td>\n",
       "      <td>0</td>\n",
       "    </tr>\n",
       "    <tr>\n",
       "      <th>4</th>\n",
       "      <td>(2021-05-13, CRIS)</td>\n",
       "      <td>1</td>\n",
       "      <td>1</td>\n",
       "      <td>0</td>\n",
       "    </tr>\n",
       "    <tr>\n",
       "      <th>...</th>\n",
       "      <td>...</td>\n",
       "      <td>...</td>\n",
       "      <td>...</td>\n",
       "      <td>...</td>\n",
       "    </tr>\n",
       "    <tr>\n",
       "      <th>2319</th>\n",
       "      <td>(2021-06-16, WISH)</td>\n",
       "      <td>0</td>\n",
       "      <td>2</td>\n",
       "      <td>0</td>\n",
       "    </tr>\n",
       "    <tr>\n",
       "      <th>2320</th>\n",
       "      <td>(2021-06-16, WMB)</td>\n",
       "      <td>0</td>\n",
       "      <td>1</td>\n",
       "      <td>0</td>\n",
       "    </tr>\n",
       "    <tr>\n",
       "      <th>2321</th>\n",
       "      <td>(2021-06-16, WPG)</td>\n",
       "      <td>0</td>\n",
       "      <td>3</td>\n",
       "      <td>0</td>\n",
       "    </tr>\n",
       "    <tr>\n",
       "      <th>2322</th>\n",
       "      <td>(2021-06-16, X)</td>\n",
       "      <td>0</td>\n",
       "      <td>1</td>\n",
       "      <td>0</td>\n",
       "    </tr>\n",
       "    <tr>\n",
       "      <th>2323</th>\n",
       "      <td>(2021-06-16, XOM)</td>\n",
       "      <td>1</td>\n",
       "      <td>2</td>\n",
       "      <td>0</td>\n",
       "    </tr>\n",
       "  </tbody>\n",
       "</table>\n",
       "<p>2324 rows × 4 columns</p>\n",
       "</div>"
      ],
      "text/plain": [
       "             date_symbol positive_tweets total_tweets  bullish\n",
       "0       (2021-05-10, FB)               0            1        0\n",
       "1     (2021-05-11, AAPL)               1            1        0\n",
       "2     (2021-05-11, PLTR)               1            1        1\n",
       "3      (2021-05-12, QQQ)               0            1        0\n",
       "4     (2021-05-13, CRIS)               1            1        0\n",
       "...                  ...             ...          ...      ...\n",
       "2319  (2021-06-16, WISH)               0            2        0\n",
       "2320   (2021-06-16, WMB)               0            1        0\n",
       "2321   (2021-06-16, WPG)               0            3        0\n",
       "2322     (2021-06-16, X)               0            1        0\n",
       "2323   (2021-06-16, XOM)               1            2        0\n",
       "\n",
       "[2324 rows x 4 columns]"
      ]
     },
     "execution_count": 12,
     "metadata": {},
     "output_type": "execute_result"
    }
   ],
   "source": [
    "grouped_tweets['bullish'] = grouped_tweets.apply(\n",
    "    lambda row: label_tweets(row.date_symbol[1], row.date_symbol[0]), axis=1)\n",
    "\n",
    "grouped_tweets"
   ]
  },
  {
   "cell_type": "markdown",
   "id": "fifty-submission",
   "metadata": {
    "papermill": {
     "duration": 0.019355,
     "end_time": "2021-06-21T14:37:01.812967",
     "exception": false,
     "start_time": "2021-06-21T14:37:01.793612",
     "status": "completed"
    },
    "tags": []
   },
   "source": [
    "Let us drop unlabelled data due to missing prices data and visualise some differences between bullish and bearish groups"
   ]
  },
  {
   "cell_type": "code",
   "execution_count": 13,
   "id": "plain-shuttle",
   "metadata": {
    "execution": {
     "iopub.execute_input": "2021-06-21T14:37:01.859210Z",
     "iopub.status.busy": "2021-06-21T14:37:01.858579Z",
     "iopub.status.idle": "2021-06-21T14:37:01.863696Z",
     "shell.execute_reply": "2021-06-21T14:37:01.863243Z",
     "shell.execute_reply.started": "2021-06-21T14:13:46.680861Z"
    },
    "papermill": {
     "duration": 0.03146,
     "end_time": "2021-06-21T14:37:01.863810",
     "exception": false,
     "start_time": "2021-06-21T14:37:01.832350",
     "status": "completed"
    },
    "tags": []
   },
   "outputs": [],
   "source": [
    "grouped_tweets.dropna(inplace=True)\n",
    "bullish_groups = grouped_tweets.loc[grouped_tweets.bullish == 1]\n",
    "bearish_groups = grouped_tweets.loc[grouped_tweets.bullish == 0]"
   ]
  },
  {
   "cell_type": "code",
   "execution_count": 14,
   "id": "portable-handbook",
   "metadata": {
    "execution": {
     "iopub.execute_input": "2021-06-21T14:37:01.906158Z",
     "iopub.status.busy": "2021-06-21T14:37:01.905371Z",
     "iopub.status.idle": "2021-06-21T14:37:02.592158Z",
     "shell.execute_reply": "2021-06-21T14:37:02.591619Z",
     "shell.execute_reply.started": "2021-06-21T14:13:46.693607Z"
    },
    "papermill": {
     "duration": 0.708575,
     "end_time": "2021-06-21T14:37:02.592271",
     "exception": false,
     "start_time": "2021-06-21T14:37:01.883696",
     "status": "completed"
    },
    "tags": []
   },
   "outputs": [
    {
     "data": {
      "image/png": "[encoded data removed]",
      "text/plain": [
       "<Figure size 1080x720 with 4 Axes>"
      ]
     },
     "metadata": {
      "needs_background": "light"
     },
     "output_type": "display_data"
    }
   ],
   "source": [
    "max_tweets = max(grouped_tweets.total_tweets.max(), grouped_tweets.positive_tweets.max())\n",
    "\n",
    "fig, ax = plt.subplots(2, 2, figsize=(15, 10))\n",
    "\n",
    "ax[0, 0].set_title(\"Bullish tweets\", fontsize=20)\n",
    "sns.histplot(x='total_tweets', data=bullish_groups, ax=ax[0, 0], \n",
    "             discrete=True, binrange=(0, max_tweets))\n",
    "sns.histplot(x='total_tweets', data=bearish_groups, ax=ax[0, 1], \n",
    "             discrete=True, binrange=(0, max_tweets))\n",
    "ax[0, 0].set_xlabel(\"Total number of tweets\")\n",
    "ax[0, 1].set_xlabel(\"Total number of tweets\")\n",
    "\n",
    "\n",
    "ax[0, 1].set_title(\"Bearish tweets\", fontsize=20)\n",
    "sns.histplot(x='positive_tweets', data=bullish_groups, ax=ax[1, 0], \n",
    "             discrete=True, binrange=(0, max_tweets))\n",
    "sns.histplot(x='positive_tweets', data=bearish_groups, ax=ax[1, 1], \n",
    "             discrete=True, binrange=(0, max_tweets))\n",
    "ax[1, 0].set_xlabel(\"Number of positive tweets\")\n",
    "ax[1, 1].set_xlabel(\"Number of positive tweets\")\n",
    "\n",
    "plt.show()"
   ]
  },
  {
   "cell_type": "markdown",
   "id": "going-functionality",
   "metadata": {
    "papermill": {
     "duration": 0.02039,
     "end_time": "2021-06-21T14:37:02.633643",
     "exception": false,
     "start_time": "2021-06-21T14:37:02.613253",
     "status": "completed"
    },
    "tags": []
   },
   "source": [
    "Above are the histograms for the distribution of total number of tweets and number of positive tweets for both bullish and bearish groups. We can see that the distribution of total tweets number are similar in both groups, but the number of positive tweets for bullish groups are greater than those for bearish groups. In particular, most bearish tweets have 0 positive tweets about them. Even though the differences are not highly distinct, this observation seems to be in line with our intuition."
   ]
  },
  {
   "cell_type": "markdown",
   "id": "canadian-peeing",
   "metadata": {
    "papermill": {
     "duration": 0.020153,
     "end_time": "2021-06-21T14:37:02.673930",
     "exception": false,
     "start_time": "2021-06-21T14:37:02.653777",
     "status": "completed"
    },
    "tags": []
   },
   "source": [
    "### Training model to predict price movement direction\n",
    "Let's try using these features to predict the direction of price movement\n",
    "<br><br>\n",
    "Since this is a binary classification problem, we will have to ensure that the labels have the same sample size. Since we do not have much data for now, and the sample sizes are pretty similar, we will just assign a balanced class weight to our classifier."
   ]
  },
  {
   "cell_type": "code",
   "execution_count": 15,
   "id": "square-albania",
   "metadata": {
    "execution": {
     "iopub.execute_input": "2021-06-21T14:37:02.719945Z",
     "iopub.status.busy": "2021-06-21T14:37:02.719123Z",
     "iopub.status.idle": "2021-06-21T14:37:02.812670Z",
     "shell.execute_reply": "2021-06-21T14:37:02.812202Z",
     "shell.execute_reply.started": "2021-06-21T14:13:47.362565Z"
    },
    "papermill": {
     "duration": 0.118596,
     "end_time": "2021-06-21T14:37:02.812795",
     "exception": false,
     "start_time": "2021-06-21T14:37:02.694199",
     "status": "completed"
    },
    "tags": []
   },
   "outputs": [
    {
     "data": {
      "text/plain": [
       "<AxesSubplot:xlabel='bullish', ylabel='count'>"
      ]
     },
     "execution_count": 15,
     "metadata": {},
     "output_type": "execute_result"
    },
    {
     "data": {
      "image/png": "[encoded data removed]",
      "text/plain": [
       "<Figure size 432x288 with 1 Axes>"
      ]
     },
     "metadata": {
      "needs_background": "light"
     },
     "output_type": "display_data"
    }
   ],
   "source": [
    "sns.countplot(x='bullish', data=grouped_tweets)"
   ]
  },
  {
   "cell_type": "code",
   "execution_count": 16,
   "id": "incoming-acrobat",
   "metadata": {
    "execution": {
     "iopub.execute_input": "2021-06-21T14:37:02.861993Z",
     "iopub.status.busy": "2021-06-21T14:37:02.861198Z",
     "iopub.status.idle": "2021-06-21T14:37:02.865306Z",
     "shell.execute_reply": "2021-06-21T14:37:02.864826Z",
     "shell.execute_reply.started": "2021-06-21T14:13:47.490907Z"
    },
    "papermill": {
     "duration": 0.031518,
     "end_time": "2021-06-21T14:37:02.865424",
     "exception": false,
     "start_time": "2021-06-21T14:37:02.833906",
     "status": "completed"
    },
    "tags": []
   },
   "outputs": [],
   "source": [
    "from sklearn.model_selection import train_test_split\n",
    "\n",
    "features = ['positive_tweets', 'total_tweets']\n",
    "X_train, X_test, y_train, y_test = train_test_split(grouped_tweets[features], \n",
    "                                                    grouped_tweets['bullish'],\n",
    "                                                    test_size=0.2, \n",
    "                                                    random_state=42)"
   ]
  },
  {
   "cell_type": "code",
   "execution_count": 17,
   "id": "unique-somalia",
   "metadata": {
    "execution": {
     "iopub.execute_input": "2021-06-21T14:37:02.917619Z",
     "iopub.status.busy": "2021-06-21T14:37:02.916850Z",
     "iopub.status.idle": "2021-06-21T14:37:03.215264Z",
     "shell.execute_reply": "2021-06-21T14:37:03.214803Z",
     "shell.execute_reply.started": "2021-06-21T14:13:47.503245Z"
    },
    "papermill": {
     "duration": 0.326496,
     "end_time": "2021-06-21T14:37:03.215376",
     "exception": false,
     "start_time": "2021-06-21T14:37:02.888880",
     "status": "completed"
    },
    "tags": []
   },
   "outputs": [
    {
     "name": "stdout",
     "output_type": "stream",
     "text": [
      "Accuracy score:  61.0752688172043\n"
     ]
    }
   ],
   "source": [
    "from sklearn.ensemble import RandomForestClassifier\n",
    "from sklearn.metrics import accuracy_score\n",
    "\n",
    "random_forest_classifier = RandomForestClassifier(class_weight='balanced', random_state=42)\n",
    "random_forest_classifier.fit(X_train, y_train)\n",
    "\n",
    "y_pred = random_forest_classifier.predict(X_test)\n",
    "print(\"Accuracy score: \", accuracy_score(y_test, y_pred) * 100)"
   ]
  },
  {
   "cell_type": "markdown",
   "id": "seventh-columbia",
   "metadata": {
    "papermill": {
     "duration": 0.021288,
     "end_time": "2021-06-21T14:37:03.258254",
     "exception": false,
     "start_time": "2021-06-21T14:37:03.236966",
     "status": "completed"
    },
    "tags": []
   },
   "source": [
    "Using a random forest classifier to predict whether the stock will rise in price based on the number of tweets and positive tweets about them on a particular day results in a 61% accuracy model.\n",
    "<br>\n",
    "This model can provide some insights as to how social media sentiments could move prices. We will work on the accuracy again later, but for now we will save this model and use it to analyse tweets."
   ]
  },
  {
   "cell_type": "code",
   "execution_count": 18,
   "id": "expanded-serial",
   "metadata": {
    "execution": {
     "iopub.execute_input": "2021-06-21T14:37:03.326656Z",
     "iopub.status.busy": "2021-06-21T14:37:03.319883Z",
     "iopub.status.idle": "2021-06-21T14:37:03.360540Z",
     "shell.execute_reply": "2021-06-21T14:37:03.360089Z",
     "shell.execute_reply.started": "2021-06-21T14:19:20.599235Z"
    },
    "papermill": {
     "duration": 0.080985,
     "end_time": "2021-06-21T14:37:03.360670",
     "exception": false,
     "start_time": "2021-06-21T14:37:03.279685",
     "status": "completed"
    },
    "tags": []
   },
   "outputs": [
    {
     "data": {
      "text/plain": [
       "['rand_forest_classifier.joblib']"
      ]
     },
     "execution_count": 18,
     "metadata": {},
     "output_type": "execute_result"
    }
   ],
   "source": [
    "from joblib import dump\n",
    "\n",
    "dump(random_forest_classifier, \"rand_forest_classifier.joblib\")"
   ]
  }
 ],
 "metadata": {
  "kernelspec": {
   "display_name": "Python 3",
   "language": "python",
   "name": "python3"
  },
  "language_info": {
   "codemirror_mode": {
    "name": "ipython",
    "version": 3
   },
   "file_extension": ".py",
   "mimetype": "text/x-python",
   "name": "python",
   "nbconvert_exporter": "python",
   "pygments_lexer": "ipython3",
   "version": "3.7.10"
  },
  "papermill": {
   "default_parameters": {},
   "duration": 36.701782,
   "end_time": "2021-06-21T14:37:04.958110",
   "environment_variables": {},
   "exception": null,
   "input_path": "__notebook__.ipynb",
   "output_path": "__notebook__.ipynb",
   "parameters": {},
   "start_time": "2021-06-21T14:36:28.256328",
   "version": "2.3.3"
  }
 },
 "nbformat": 4,
 "nbformat_minor": 5
}
